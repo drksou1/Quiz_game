{
 "cells": [
  {
   "cell_type": "code",
   "execution_count": null,
   "id": "ca7282e4-6ed0-4667-87e8-8a4d534f7b6b",
   "metadata": {},
   "outputs": [],
   "source": [
    "# 1. Coordinates Exercise"
   ]
  },
  {
   "cell_type": "code",
   "execution_count": 2,
   "id": "f619688c-4e03-4155-a683-3710e080c438",
   "metadata": {
    "tags": []
   },
   "outputs": [
    {
     "name": "stdout",
     "output_type": "stream",
     "text": [
      "distance from origin to (1, 2) is 2.23606797749979\n",
      "distance from origin to (3, 4) is 5.0\n",
      "distance from origin to (-1, -2) is 2.23606797749979\n"
     ]
    }
   ],
   "source": [
    "def distance_calculator(x,y):\n",
    "    return (x**2+y**2)**0.5\n",
    "def og_distance(coordinates):\n",
    "    distances=[]\n",
    "    for i in coordinates:\n",
    "        x,y=i\n",
    "        distance=distance_calculator(x,y)\n",
    "        distances.append(distance)\n",
    "    return distances\n",
    "\n",
    "coordinates= [(1,2),(3,4),(-1,-2)]\n",
    "distances=og_distance(coordinates)\n",
    "\n",
    "for f, i in enumerate(coordinates):\n",
    "    print(f\"distance from origin to {i} is {distances[f]}\")"
   ]
  },
  {
   "cell_type": "code",
   "execution_count": null,
   "id": "f7fd684c-64a5-4003-95d7-5521cf72555f",
   "metadata": {},
   "outputs": [],
   "source": [
    "# 2. Student Record Exercise:"
   ]
  },
  {
   "cell_type": "code",
   "execution_count": 6,
   "id": "59bd2a8c-be29-44e0-a4a0-54bed280d8ca",
   "metadata": {
    "tags": []
   },
   "outputs": [
    {
     "name": "stdout",
     "output_type": "stream",
     "text": [
      "('Arto', 22, 'A')\n",
      "('Marja', 20, 'B')\n",
      "('Juho', 21, 'C')\n"
     ]
    }
   ],
   "source": [
    "def sorting(student_records):\n",
    "    return sorted(student_records, key=lambda x: x[2])\n",
    "student_records=[('Marja',20,'B'),('Arto',22,'A'),('Juho',21,'C')]\n",
    "sorted_student=sorting(student_records)\n",
    "\n",
    "for i in sorted_student:\n",
    "    print(i)"
   ]
  },
  {
   "cell_type": "code",
   "execution_count": null,
   "id": "2b08cc6f-eaa0-4906-baea-23efd7c49c37",
   "metadata": {},
   "outputs": [],
   "source": [
    "# 3. Unique Emails Exercise:"
   ]
  },
  {
   "cell_type": "code",
   "execution_count": 8,
   "id": "855e1c50-1b8f-4d86-84c9-9a79c82ed7ff",
   "metadata": {
    "tags": []
   },
   "outputs": [
    {
     "name": "stdout",
     "output_type": "stream",
     "text": [
      "2\n"
     ]
    }
   ],
   "source": [
    "def unique_email_calculator(email_addresses):\n",
    "    emails=set(email_addresses)\n",
    "    return len(emails)\n",
    "email_addresses=[\"marja@email.com\", \"arto@email.com\", \"marja@email.com\"]\n",
    "unique_count=unique_email_calculator(email_addresses)\n",
    "print(unique_count)"
   ]
  },
  {
   "cell_type": "code",
   "execution_count": null,
   "id": "56d5dcfa-5f3c-443c-a7b4-60ce494b6821",
   "metadata": {},
   "outputs": [],
   "source": [
    "# 4. Common Ingredients Exercise:"
   ]
  },
  {
   "cell_type": "code",
   "execution_count": 18,
   "id": "b526dab6-d5c9-44e7-9271-a420630b69c0",
   "metadata": {
    "tags": []
   },
   "outputs": [
    {
     "name": "stdout",
     "output_type": "stream",
     "text": [
      "{'butter'}\n"
     ]
    }
   ],
   "source": [
    "def common_ingredients(recipe1, recipe2):\n",
    "    return recipe1.intersection(recipe2)\n",
    "\n",
    "recipe1 = {\"egg\", \"milk\", \"butter\"}\n",
    "recipe2 = {\"butter\", \"flour\", \"sugar\"}\n",
    "ingredients = common_ingredients(recipe1, recipe2)\n",
    "print(ingredients)"
   ]
  },
  {
   "cell_type": "code",
   "execution_count": null,
   "id": "7789ecb7-3573-4ede-b1ac-5b9da15fd971",
   "metadata": {},
   "outputs": [],
   "source": [
    "# 5. Friend Recommendation Exercise:"
   ]
  },
  {
   "cell_type": "code",
   "execution_count": 20,
   "id": "16ad2d3c-d2ec-4622-a240-3936014ee764",
   "metadata": {
    "tags": []
   },
   "outputs": [
    {
     "name": "stdout",
     "output_type": "stream",
     "text": [
      "{'Grace', 'Frank'}\n"
     ]
    }
   ],
   "source": [
    "def reccomend_friends(Marjas_friends, Artos_friends):\n",
    "    return Artos_friends.difference(Marjas_friends)\n",
    "Marjas_friends= {'Juho','Päivi','Eve'}\n",
    "Artos_friends={'Päivi','Frank','Grace'}\n",
    "different_friends=reccomend_friends(Marjas_friends, Artos_friends)\n",
    "print(different_friends)"
   ]
  },
  {
   "cell_type": "code",
   "execution_count": null,
   "id": "24823dfb-743c-4c58-ade2-4910b3b1c02f",
   "metadata": {},
   "outputs": [],
   "source": [
    "# 6. Product Price Lookup Exercise:"
   ]
  },
  {
   "cell_type": "code",
   "execution_count": 29,
   "id": "824717d1-bb35-48ec-b98b-86d3903e4576",
   "metadata": {
    "tags": []
   },
   "outputs": [
    {
     "name": "stdout",
     "output_type": "stream",
     "text": [
      "The price of apple is: 0.5\n"
     ]
    }
   ],
   "source": [
    "def get_product_price(products, product_name):\n",
    "    return products.get(product_name)\n",
    "\n",
    "products = {\"apple\": 0.5, \"banana\": 0.25}\n",
    "ask_for = \"apple\"\n",
    "price = get_product_price(products, ask_for)\n",
    "\n",
    "print(f\"The price of {ask_for} is: {price}\")"
   ]
  },
  {
   "cell_type": "code",
   "execution_count": null,
   "id": "1d54876d-f994-4ccf-bee2-d1207b690ee3",
   "metadata": {},
   "outputs": [],
   "source": [
    "# 7. Voting System Exercise:"
   ]
  },
  {
   "cell_type": "code",
   "execution_count": 35,
   "id": "5e0cd484-c9fc-48f9-a169-4ff454649f6b",
   "metadata": {
    "tags": []
   },
   "outputs": [
    {
     "name": "stdout",
     "output_type": "stream",
     "text": [
      "the winner is Arto\n"
     ]
    }
   ],
   "source": [
    "def voting_system(votes, candidate_names):\n",
    "    if candidate_names in votes:\n",
    "        votes[candidate_names] += 1\n",
    "    else:\n",
    "        votes[candidate_names]=1\n",
    "def winning_votes(votes):\n",
    "    winner=max(votes, key=votes.get)\n",
    "    return winner\n",
    "\n",
    "votes={'Marja':5,'Arto':7}\n",
    "new_vote='Marja'\n",
    "voting_system(votes, new_vote)\n",
    "winner=winning_votes(votes)\n",
    "\n",
    "print(f\"the winner is {winner}\")"
   ]
  },
  {
   "cell_type": "code",
   "execution_count": null,
   "id": "ee2be040-87db-4468-922c-88918232472f",
   "metadata": {},
   "outputs": [],
   "source": [
    "# 8. Inventory Management Exercise: "
   ]
  },
  {
   "cell_type": "code",
   "execution_count": 39,
   "id": "9b4af71e-5694-4a91-b54a-5cb915676525",
   "metadata": {
    "tags": []
   },
   "outputs": [
    {
     "name": "stdout",
     "output_type": "stream",
     "text": [
      "The current inventory is: {'apple': 25, 'banana': 3}\n"
     ]
    }
   ],
   "source": [
    "def add_item(inventory, item, quantity):\n",
    "    if item in inventory:\n",
    "        inventory[item] += quantity\n",
    "    else:\n",
    "        inventory[item] = quantity\n",
    "\n",
    "def remove_item(inventory, item, quantity):\n",
    "    if item in inventory:\n",
    "        inventory[item] -= quantity\n",
    "        if inventory[item] <= 0:\n",
    "            del inventory[item]\n",
    "\n",
    "def check_inventory(inventory):\n",
    "    return inventory\n",
    "\n",
    "inventory = {\"apple\": 10, \"banana\": 5}\n",
    "add_item(inventory, \"apple\",15)\n",
    "remove_item(inventory, \"banana\", 2)\n",
    "current_inventory = check_inventory(inventory)\n",
    "\n",
    "print(f\"The current inventory is: {current_inventory}\")"
   ]
  },
  {
   "cell_type": "code",
   "execution_count": null,
   "id": "fb715c37-b69c-4140-b412-59198fa53031",
   "metadata": {},
   "outputs": [],
   "source": [
    "# 9. Book Catalog Exercise:"
   ]
  },
  {
   "cell_type": "code",
   "execution_count": 47,
   "id": "d2eb31eb-e3ec-49af-a920-b636ce26fa46",
   "metadata": {
    "tags": []
   },
   "outputs": [
    {
     "name": "stdout",
     "output_type": "stream",
     "text": [
      "Books by Juho:\n",
      "ISBN: 978-1234567890, Title: Book1, Author: Juho\n",
      "ISBN: 978-1111111111, Title: Book3, Author: Juho\n"
     ]
    }
   ],
   "source": [
    "def add_book(catalog, ISBN, title, author):\n",
    "    if author in catalog:\n",
    "        catalog[author].append({'ISBN': ISBN, 'title': title})\n",
    "    else:\n",
    "        catalog[author] = [{'ISBN': ISBN, 'title': title}]\n",
    "\n",
    "def find_book_by_isbn(catalog, ISBN):\n",
    "    for author, books in catalog.items():\n",
    "        for book in books:\n",
    "            if book['ISBN'] == ISBN:\n",
    "                return book\n",
    "\n",
    "def list_books_by_author(catalog, author):\n",
    "    return catalog.get(author, [])\n",
    "\n",
    "book_catalog = {}\n",
    "add_book(book_catalog, '978-1234567890', 'Book1', 'Juho')\n",
    "add_book(book_catalog, '978-0987654321', 'Book2', 'Arto')\n",
    "add_book(book_catalog, '978-1111111111', 'Book3', 'Juho')\n",
    "\n",
    "author_query = 'Juho'\n",
    "books_by_author = list_books_by_author(book_catalog, author_query)\n",
    "\n",
    "print(f\"Books by {author_query}:\")\n",
    "for book in books_by_author:\n",
    "    print(f\"ISBN: {book['ISBN']}, Title: {book['title']}, Author: {author_query}\")\n"
   ]
  },
  {
   "cell_type": "code",
   "execution_count": null,
   "id": "f76f049b-bd76-4675-b3f8-9a9cffba93fb",
   "metadata": {},
   "outputs": [],
   "source": [
    "# 10. Weather Data Exercise: "
   ]
  },
  {
   "cell_type": "code",
   "execution_count": 52,
   "id": "e350e97e-ed31-4b20-adc7-45e1c23cc2f0",
   "metadata": {
    "tags": []
   },
   "outputs": [
    {
     "name": "stdout",
     "output_type": "stream",
     "text": [
      "The day with the highest temperature is Tue with 22 degrees.\n",
      "The day with the lowest temperature is Wed with 19 degrees.\n"
     ]
    }
   ],
   "source": [
    "temperature_data = {\"Mon\": 20, \"Tue\": 22, \"Wed\": 19, \"Thu\": 21, \"Fri\": 20}\n",
    "\n",
    "max_temp_day = max(temperature_data, key=lambda day: temperature_data[day])\n",
    "min_temp_day = min(temperature_data, key=lambda day: temperature_data[day])\n",
    "\n",
    "print(f\"The day with the highest temperature is {max_temp_day} with {temperature_data[max_temp_day]} degrees.\")\n",
    "print(f\"The day with the lowest temperature is {min_temp_day} with {temperature_data[min_temp_day]} degrees.\")"
   ]
  },
  {
   "cell_type": "code",
   "execution_count": null,
   "id": "d2a81122-067e-4b09-9f85-32987795a721",
   "metadata": {},
   "outputs": [],
   "source": [
    "# 11. Flight Information Exercise: "
   ]
  },
  {
   "cell_type": "code",
   "execution_count": 55,
   "id": "3423eafb-3803-44a3-94c6-00778bb99787",
   "metadata": {
    "tags": []
   },
   "outputs": [
    {
     "name": "stdout",
     "output_type": "stream",
     "text": [
      "Finnair\n",
      "Helsinki\n",
      "Tokyo\n",
      "9.5\n"
     ]
    }
   ],
   "source": [
    "flight_details= (\"Finnair\", \"Helsinki\", \"Tokyo\", 9.5)\n",
    "airline, source, destination, duration = flight_details\n",
    "print(airline)\n",
    "print(source)\n",
    "print(destination)\n",
    "print(duration)"
   ]
  },
  {
   "cell_type": "code",
   "execution_count": null,
   "id": "950b0e4a-3a99-4f6d-9dfb-e4a9588ba078",
   "metadata": {},
   "outputs": [],
   "source": [
    "# 12. Color Representation Exercise:"
   ]
  },
  {
   "cell_type": "code",
   "execution_count": 56,
   "id": "dc7af97a-45ef-4263-9d18-e05a21729ce5",
   "metadata": {
    "tags": []
   },
   "outputs": [
    {
     "name": "stdout",
     "output_type": "stream",
     "text": [
      "The color (200, 200, 200) is grayscale.\n"
     ]
    }
   ],
   "source": [
    "def is_grayscale(color):\n",
    "    return color[0] == color[1] == color[2]\n",
    "color = (200, 200, 200)\n",
    "\n",
    "if is_grayscale(color):\n",
    "    print(f\"The color {color} is grayscale.\")\n",
    "else:\n",
    "    print(f\"The color {color} is not grayscale.\")"
   ]
  },
  {
   "cell_type": "code",
   "execution_count": null,
   "id": "37cfc825-57a0-44c0-ae2d-01cfb6f70f03",
   "metadata": {},
   "outputs": [],
   "source": [
    "# 13. Unique Songs Exercise:"
   ]
  },
  {
   "cell_type": "code",
   "execution_count": 62,
   "id": "6613f6f9-76f0-48a3-b831-7654042bc6c6",
   "metadata": {
    "tags": []
   },
   "outputs": [
    {
     "name": "stdout",
     "output_type": "stream",
     "text": [
      "{'song4', 'song1', 'song5', 'song2', 'song3'}\n"
     ]
    }
   ],
   "source": [
    "marja_playlist = {\"song1\", \"song2\", \"song3\"}\n",
    "arto_playlist = {\"song3\", \"song4\", \"song5\"}\n",
    "merged_playlist= marja_playlist.union(arto_playlist)\n",
    "print(merged_playlist)"
   ]
  },
  {
   "cell_type": "code",
   "execution_count": null,
   "id": "a530ab1f-5703-432d-850b-02bba105cff7",
   "metadata": {},
   "outputs": [],
   "source": [
    "# 15. Grocery List Exercise:"
   ]
  },
  {
   "cell_type": "code",
   "execution_count": 65,
   "id": "0dc88e1c-9362-43c2-a733-5b5acc6509b8",
   "metadata": {
    "tags": []
   },
   "outputs": [
    {
     "name": "stdout",
     "output_type": "stream",
     "text": [
      "Both have in common: {'bread'}\n",
      "Differences are: {'butter', 'milk'}\n"
     ]
    }
   ],
   "source": [
    "juho_list= {\"milk\", \"bread\", \"butter\"}\n",
    "päivi_list= {\"bread\", \"egg\", \"juice\"}\n",
    "\n",
    "common_list=juho_list.intersection(päivi_list)\n",
    "print(f'Both have in common: {common_list}')\n",
    "\n",
    "unique_list=juho_list.difference(päivi_list)\n",
    "print(f'Differences are: {unique_list}')"
   ]
  },
  {
   "cell_type": "code",
   "execution_count": null,
   "id": "886f5cec-ecf7-4f77-90e2-ee28d1013951",
   "metadata": {},
   "outputs": [],
   "source": [
    "# 16. Movie Recommendation Exercise:"
   ]
  },
  {
   "cell_type": "code",
   "execution_count": 70,
   "id": "ce5e936c-ce8e-40be-8e11-6d38eccfccd6",
   "metadata": {
    "tags": []
   },
   "outputs": [
    {
     "name": "stdout",
     "output_type": "stream",
     "text": [
      "Marja should still watch {'God Father 3', 'Friday the 13th'}\n"
     ]
    }
   ],
   "source": [
    "marja_has_seen={'God Father 1','Titanic'}\n",
    "recommended_to_marja={'Titanic','God Father 3','Friday the 13th'}\n",
    "movies_marja_has_not_seen=recommended_to_marja.difference(marja_has_seen)\n",
    "print(f'Marja should still watch {movies_marja_has_not_seen}')"
   ]
  },
  {
   "cell_type": "code",
   "execution_count": null,
   "id": "e6be808a-96d5-4030-b7b7-87bd2b093f0f",
   "metadata": {},
   "outputs": [],
   "source": [
    "# 17. Student Grades Exercise:"
   ]
  },
  {
   "cell_type": "code",
   "execution_count": 74,
   "id": "c3b1abdc-6227-4efc-ab9d-775b035c4b50",
   "metadata": {
    "tags": []
   },
   "outputs": [
    {
     "name": "stdout",
     "output_type": "stream",
     "text": [
      "Best student is Arto with an average grade of 90\n"
     ]
    }
   ],
   "source": [
    "student_grades = {\"Marja\": 85, \"Arto\": 90, \"Juho\": 88, \"Paivi\": 78}\n",
    "\n",
    "highest_grade = max(student_grades.values())\n",
    "highest_students = [name for name, grade in student_grades.items() if grade == highest_grade]\n",
    "\n",
    "for student in highest_students:\n",
    "    print(f\"Best student is {student} with an average grade of {highest_grade}\")\n"
   ]
  },
  {
   "cell_type": "code",
   "execution_count": null,
   "id": "d5b6b3f6-2072-4281-8ffb-cb99e0904bd9",
   "metadata": {},
   "outputs": [],
   "source": [
    "# 18 .City Population Exercise:"
   ]
  },
  {
   "cell_type": "code",
   "execution_count": 77,
   "id": "dbdc6bd3-3fbf-4233-a97d-95ab5008d7f0",
   "metadata": {
    "tags": []
   },
   "outputs": [
    {
     "name": "stdout",
     "output_type": "stream",
     "text": [
      "The most populated city is: Helsinki with a population of 700000\n"
     ]
    }
   ],
   "source": [
    "cities_population = {\"Helsinki\": 650000, \"Tampere\": 235000, \"Oulu\": 200000}\n",
    "\n",
    "def add_city(city_dict, city, population):\n",
    "    city_dict[city] = population\n",
    "def update_population(city_dict, city, new_population):\n",
    "    if city in city_dict:\n",
    "        city_dict[city] = new_population\n",
    "def most_populated_city(city_dict):\n",
    "    return max(city_dict, key=city_dict.get)\n",
    "\n",
    "add_city(cities_population, \"Turku\", 190000)\n",
    "update_population(cities_population, \"Helsinki\", 700000)\n",
    "most_populated = most_populated_city(cities_population)\n",
    "\n",
    "print(f\"The most populated city is: {most_populated} with population of {cities_population[most_populated]}\")\n"
   ]
  },
  {
   "cell_type": "code",
   "execution_count": null,
   "id": "635b4134-8b87-49d7-a3cd-a5d70f7be297",
   "metadata": {},
   "outputs": [],
   "source": [
    "# 19. Recipe Ingredients Exercise:"
   ]
  },
  {
   "cell_type": "code",
   "execution_count": 82,
   "id": "f386d5d0-9ae9-4024-86d8-e2bc08216d1b",
   "metadata": {
    "tags": []
   },
   "outputs": [
    {
     "name": "stdout",
     "output_type": "stream",
     "text": [
      "Scaled recipe for 4 servings:\n",
      "flour: 400.0 grams\n",
      "sugar: 100.0 grams\n",
      "milk: 200.0 grams\n"
     ]
    }
   ],
   "source": [
    "def cooking_app(recipe,servings_now, target_servings):\n",
    "    calculator = target_servings / servings_now\n",
    "    return {ingredient: quantity * calculator for ingredient, quantity in recipe.items()}\n",
    "\n",
    "recipe_for_2_servings = {\"flour\": 200, \"sugar\": 50, \"milk\": 100}\n",
    "servings_now = 2\n",
    "target_servings = 4\n",
    "\n",
    "scaled_recipe = cooking_app(recipe_for_2_servings, servings_now, target_servings)\n",
    "\n",
    "print(f\"Scaled recipe for {target_servings} servings:\")\n",
    "for ingredient, quantity in scaled_recipe.items():\n",
    "    print(f\"{ingredient}: {quantity} grams\")\n"
   ]
  },
  {
   "cell_type": "code",
   "execution_count": null,
   "id": "51221d5b-1f2a-4bc5-bf49-efcd12b1bbed",
   "metadata": {},
   "outputs": [],
   "source": [
    "# 20. Phone Contacts Exercise: "
   ]
  },
  {
   "cell_type": "code",
   "execution_count": 84,
   "id": "59e0fbd1-f409-48ab-b860-4a6203b4a49b",
   "metadata": {
    "tags": []
   },
   "outputs": [
    {
     "name": "stdout",
     "output_type": "stream",
     "text": [
      "Updated Phonebook: {'Arto': '+3587654321', 'Juho': '+3589876543'}\n",
      "Search result for Arto: +3587654321\n"
     ]
    }
   ],
   "source": [
    "phonebook= {\"Marja\": \"+3581234567\", \"Arto\": \"+3587654321\"}\n",
    "\n",
    "def add_contact(phonebook, name, number):\n",
    "    phonebook[name] = number\n",
    "\n",
    "def delete_contact(phonebook, name):\n",
    "    if name in phonebook:\n",
    "        del phonebook[name]\n",
    "\n",
    "def search_contact(phonebook, name):\n",
    "    return phonebook.get(name)\n",
    "\n",
    "new_contact_name = \"Juho\"\n",
    "new_contact_number = \"+3589876543\"\n",
    "add_contact(phonebook, new_contact_name, new_contact_number)\n",
    "\n",
    "contact_to_delete = \"Marja\"\n",
    "delete_contact(phonebook, contact_to_delete)\n",
    "\n",
    "searched_contact_name = \"Arto\"\n",
    "searched_contact = search_contact(phonebook, searched_contact_name)\n",
    "\n",
    "print(f\"Updated Phonebook: {phonebook}\")\n",
    "print(f\"Search result for {searched_contact_name}: {searched_contact}\")\n"
   ]
  },
  {
   "cell_type": "code",
   "execution_count": null,
   "id": "88212b2d-7a83-4cd9-a041-e1845080d213",
   "metadata": {},
   "outputs": [],
   "source": [
    "# 21. Library System Exercise: "
   ]
  },
  {
   "cell_type": "code",
   "execution_count": 87,
   "id": "68c4a86a-c46d-414b-97a1-c6035f3bb0b4",
   "metadata": {
    "tags": []
   },
   "outputs": [
    {
     "name": "stdout",
     "output_type": "stream",
     "text": [
      "borrowed successfully: True\n",
      "returned successfully: True\n",
      "available books:\n",
      "ISBN: 978-0987654321, title: Jupyter, author: Arto\n",
      "ISBN: 978-1111111111, title: Pandas, author: Jussi\n"
     ]
    }
   ],
   "source": [
    "library = {\n",
    "    \"978-1234567890\": {\"title\": \"Notebook\", \"author\": \"Juho\", \"status\": \"available\"},\n",
    "    \"978-0987654321\": {\"title\": \"Jupyter\", \"author\": \"Arto\", \"status\": \"borrowed\"},\n",
    "    \"978-1111111111\": {\"title\": \"Pandas\", \"author\": \"Jussi\", \"status\": \"available\"}}\n",
    "\n",
    "def borrow_book(ISBN):\n",
    "    if ISBN in library and library[ISBN][\"status\"] == \"available\":\n",
    "        library[ISBN][\"status\"] = \"borrowed\"\n",
    "        return True\n",
    "    return False\n",
    "\n",
    "def return_book(ISBN):\n",
    "    if ISBN in library and library[ISBN][\"status\"] == \"borrowed\":\n",
    "        library[ISBN][\"status\"] = \"available\"\n",
    "        return True\n",
    "    return False\n",
    "\n",
    "def list_available_books():\n",
    "    available_books = [(ISBN, book_info) for ISBN, book_info in library.items() if book_info[\"status\"] == \"available\"]\n",
    "    return available_books\n",
    "\n",
    "borrowed_successfully = borrow_book(\"978-1234567890\")\n",
    "returned_successfully = return_book(\"978-0987654321\")\n",
    "available_books = list_available_books()\n",
    "\n",
    "print(f\"borrowed successfully: {borrowed_successfully}\")\n",
    "print(f\"returned successfully: {returned_successfully}\")\n",
    "print(f\"available books:\")\n",
    "for ISBN, book_info in available_books:\n",
    "    print(f\"ISBN: {ISBN}, title: {book_info['title']}, author: {book_info['author']}\")\n"
   ]
  }
 ],
 "metadata": {
  "kernelspec": {
   "display_name": "Python 3 (ipykernel)",
   "language": "python",
   "name": "python3"
  },
  "language_info": {
   "codemirror_mode": {
    "name": "ipython",
    "version": 3
   },
   "file_extension": ".py",
   "mimetype": "text/x-python",
   "name": "python",
   "nbconvert_exporter": "python",
   "pygments_lexer": "ipython3",
   "version": "3.11.5"
  }
 },
 "nbformat": 4,
 "nbformat_minor": 5
}
